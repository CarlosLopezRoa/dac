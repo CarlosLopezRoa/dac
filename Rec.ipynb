{
 "cells": [
  {
   "cell_type": "code",
   "execution_count": null,
   "metadata": {},
   "outputs": [],
   "source": [
    "from __future__ import absolute_import, division, print_function\n",
    "import pandas as pd\n",
    "from tqdm import tqdm\n",
    "# TensorFlow and tf.keras\n",
    "import tensorflow as tf\n",
    "from tensorflow import keras\n",
    "\n",
    "# Helper libraries\n",
    "import numpy as np\n",
    "import matplotlib.pyplot as plt\n",
    "\n",
    "print(tf.__version__)\n",
    "\n",
    "from tensorflow.python.client import device_lib\n",
    "device_lib.list_local_devices()\n",
    "import pickle \n",
    "from multiprocessing import Pool\n",
    "import os"
   ]
  },
  {
   "cell_type": "code",
   "execution_count": null,
   "metadata": {
    "colab": {},
    "colab_type": "code",
    "id": "Sla-C4jZtYtk"
   },
   "outputs": [],
   "source": [
    "#! head -n 1000 train.csv > traintrim.csv"
   ]
  },
  {
   "cell_type": "code",
   "execution_count": null,
   "metadata": {},
   "outputs": [],
   "source": [
    "#! head -n 1000 test.csv > testtrim.csv"
   ]
  },
  {
   "cell_type": "code",
   "execution_count": null,
   "metadata": {},
   "outputs": [],
   "source": [
    "preprocess = False"
   ]
  },
  {
   "cell_type": "code",
   "execution_count": null,
   "metadata": {},
   "outputs": [],
   "source": [
    "def encode_column(col):\n",
    "    encoder = preprocessing.LabelEncoder()\n",
    "    encoder.fit(train.loc[:, col].fillna('nan').values)\n",
    "    return encoder\n",
    "def transform_column(col):\n",
    "    encoder = encoders[col-14]\n",
    "    return encoder.transform(train.loc[:, col].fillna('nan').values)\n",
    "def encode_test_column(col): \n",
    "    encoder = encoders[col-13]\n",
    "    dic = dict(zip(encoder.classes_, encoder.transform(encoder.classes_)))\n",
    "    return test.loc[:, col].fillna('nan').map(dic).fillna(dic.get('nan',0)).values"
   ]
  },
  {
   "cell_type": "code",
   "execution_count": null,
   "metadata": {},
   "outputs": [],
   "source": [
    "if preprocess: \n",
    "    print('Import')\n",
    "    train_gen = pd.read_csv(\"train.txt\", sep='\\t', lineterminator='\\n', header=None, engine='c', chunksize = 100000)\n",
    "    train = pd.concat([chunk for chunk in tqdm(train_gen)])\n",
    "    test_gen = pd.read_csv(\"test.txt\", sep='\\t', lineterminator='\\n', header=None, engine='c', chunksize = 100000)\n",
    "    test = pd.concat([chunk for chunk in tqdm(test_gen)])\n",
    "    print('Transform')\n",
    "    from sklearn import preprocessing\n",
    "    pool = Pool()\n",
    "    encoders = pool.map(encode_column, tqdm(range(14,40)))\n",
    "    #transformed_cols = pool.map(transform_column, tqdm(range(14,40)))\n",
    "    transformed_cols = list(map(transform_column, tqdm(range(14,40))))\n",
    "    for col in tqdm(range(14,40)):\n",
    "        train.loc[:, col] = transformed_cols[col-14]\n",
    "    #transformed_test_cols = pool.map(encode_test_column, tqdm(range(13,39)))\n",
    "    transformed_test_cols = list(map(encode_test_column, tqdm(range(13,39))))\n",
    "    for col in tqdm(range(13,39)):\n",
    "        test.loc[:, col] = transformed_test_cols[col-13]\n",
    "    print('filna')\n",
    "    train = train.fillna(0)#.loc[:,list(range(14))]\n",
    "    test = test.fillna(0)#.loc[:,list(range(13))].values\n",
    "    print('Export')\n",
    "    \n",
    "    train.to_csv('train.csv', index=None, header=False)\n",
    "    test.to_csv('test.csv', index=None, header=False)\n",
    "    \n",
    "    \n",
    "    #with open(\"train.p\",\"wb\") as filehandler:\n",
    "    #    pickle.dump(train, filehandler, protocol=4)\n",
    "    \n",
    "    #with open(\"test.p\",\"wb\") as filehandler: \n",
    "    #    pickle.dump(test, filehandler, protocol=4)"
   ]
  },
  {
   "cell_type": "code",
   "execution_count": null,
   "metadata": {},
   "outputs": [],
   "source": [
    "print(\"Import preprocessed CSV\")\n",
    "train_gen = pd.read_csv(\"traintrim.csv\",  header=None, engine='c', chunksize = 100000)\n",
    "train = pd.concat([chunk for chunk in tqdm(train_gen)])\n",
    "test_gen = pd.read_csv(\"testtrim.csv\", header=None, engine='c', chunksize = 100000)\n",
    "test = pd.concat([chunk for chunk in tqdm(test_gen)]).values"
   ]
  },
  {
   "cell_type": "code",
   "execution_count": null,
   "metadata": {
    "colab": {},
    "colab_type": "code",
    "id": "gb59HDfNXYxL"
   },
   "outputs": [],
   "source": [
    "print(\"split\")\n",
    "from sklearn.model_selection import train_test_split\n",
    "from sklearn.model_selection import StratifiedShuffleSplit\n",
    "from sklearn.preprocessing import OneHotEncoder\n",
    "X = train.drop(0, axis = 1)\n",
    "y = train[0]#.values.reshape([-1,1])\n",
    "#enc = OneHotEncoder(sparse=False)\n",
    "#y = enc.fit_transform(y)\n",
    "X_train, X_test, y_train, y_test = train_test_split(X, y, test_size=0.2, random_state=1)\n",
    "splitter = StratifiedShuffleSplit(n_splits=5, test_size=0.2, random_state=0)\n",
    "for train_index, test_index in splitter.split(X, y):\n",
    "    X_train, X_test = X.loc[train_index].values, X.loc[test_index].values\n",
    "    y_train, y_test = y.loc[train_index].values, y.loc[test_index].values\n",
    "    \n",
    "del train"
   ]
  },
  {
   "cell_type": "code",
   "execution_count": null,
   "metadata": {
    "colab": {},
    "colab_type": "code",
    "id": "Ub14cQv1XjOM"
   },
   "outputs": [],
   "source": [
    "print(X.shape)\n",
    "print(y.shape)\n",
    "print(test.shape)"
   ]
  },
  {
   "cell_type": "code",
   "execution_count": null,
   "metadata": {
    "colab": {},
    "colab_type": "code",
    "id": "FvTbDpZJX91t"
   },
   "outputs": [],
   "source": [
    "model = keras.Sequential([\n",
    "    keras.layers.Flatten(input_shape=(X.shape[1],)),\n",
    "    keras.layers.Dense(64, activation=tf.nn.relu),\n",
    "    keras.layers.BatchNormalization(),\n",
    "    keras.layers.Dense(16, activation=tf.nn.relu),\n",
    "    keras.layers.BatchNormalization(),\n",
    "    keras.layers.Dense(8, activation=tf.nn.relu),\n",
    "    keras.layers.BatchNormalization(),\n",
    "    keras.layers.Dropout(0.2),\n",
    "    keras.layers.Dense(1, activation=tf.nn.sigmoid)\n",
    "])\n",
    "\n",
    "model.compile(tf.keras.optimizers.Adam(),\n",
    "              loss='binary_crossentropy',\n",
    "              metrics=['accuracy'])"
   ]
  },
  {
   "cell_type": "code",
   "execution_count": null,
   "metadata": {},
   "outputs": [],
   "source": [
    "checkpoint_path = \"training/cp-{epoch:04d}.ckpt\"\n",
    "checkpoint_dir = os.path.dirname(checkpoint_path)\n",
    "cp_callback = tf.keras.callbacks.ModelCheckpoint(\n",
    "    checkpoint_path, verbose=1, save_weights_only=True,\n",
    "    # Save weights, every 5-epochs.\n",
    "    period=5)\n",
    "model.save_weights(checkpoint_path.format(epoch=0))\n"
   ]
  },
  {
   "cell_type": "code",
   "execution_count": null,
   "metadata": {
    "colab": {},
    "colab_type": "code",
    "id": "LxMeQn8-YLU7"
   },
   "outputs": [],
   "source": [
    "history = model.fit(X_train, y_train, \n",
    "                    epochs=200, \n",
    "                    batch_size=512,  verbose=1,\n",
    "                    validation_data=(X_test, y_test),\n",
    "                    callbacks = [cp_callback])"
   ]
  },
  {
   "cell_type": "code",
   "execution_count": null,
   "metadata": {
    "colab": {},
    "colab_type": "code",
    "id": "3KcBvMmvfGhK"
   },
   "outputs": [],
   "source": [
    "history_dict = history.history"
   ]
  },
  {
   "cell_type": "code",
   "execution_count": null,
   "metadata": {
    "colab": {},
    "colab_type": "code",
    "id": "CIy6QVbCiQ1k"
   },
   "outputs": [],
   "source": [
    "import matplotlib.pyplot as plt\n",
    "\n",
    "acc = history_dict['acc']\n",
    "val_acc = history_dict['val_acc']\n",
    "loss = history_dict['loss']\n",
    "val_loss = history_dict['val_loss']\n",
    "\n",
    "epochs = range(1, len(acc) + 1)\n",
    "\n",
    "# \"bo\" is for \"blue dot\"\n",
    "plt.plot(epochs, loss, 'bo', label='Training loss')\n",
    "# b is for \"solid blue line\"\n",
    "plt.plot(epochs, val_loss, 'b', label='Validation loss')\n",
    "plt.title('Training and validation loss')\n",
    "plt.xlabel('Epochs')\n",
    "plt.ylabel('Loss')\n",
    "plt.legend()\n",
    "plt.savefig('val_loss.png', bbox_inches='tight')\n",
    "# \"bo\" is for \"blue dot\"\n",
    "plt.close()\n",
    "\n",
    "plt.plot(epochs, acc, 'bo', label='Training acc')\n",
    "# b is for \"solid blue line\"\n",
    "plt.plot(epochs, val_acc, 'b', label='Validation acc')\n",
    "plt.title('Training and validation acc')\n",
    "plt.xlabel('Epochs')\n",
    "plt.ylabel('acc')\n",
    "plt.legend()\n",
    "\n",
    "\n",
    "plt.savefig('val_acc.png', bbox_inches='tight')"
   ]
  },
  {
   "cell_type": "code",
   "execution_count": null,
   "metadata": {},
   "outputs": [],
   "source": [
    "results = model.evaluate(X_test, y_test)"
   ]
  },
  {
   "cell_type": "code",
   "execution_count": null,
   "metadata": {},
   "outputs": [],
   "source": [
    "import matplotlib as plt\n",
    "import seaborn as sns\n",
    "#sns.distplot(model.predict(X_test))"
   ]
  },
  {
   "cell_type": "code",
   "execution_count": null,
   "metadata": {},
   "outputs": [],
   "source": [
    "y_test_pred = pd.DataFrame(model.predict(X_test)).apply(lambda x: int(round(x)), axis = 1).to_frame()\n",
    "y_test_pred.groupby(0)[0].count()#/y_test_pred.groupby(0)[1].sum()"
   ]
  },
  {
   "cell_type": "code",
   "execution_count": null,
   "metadata": {},
   "outputs": [],
   "source": [
    "y_pred = model.predict(test)"
   ]
  },
  {
   "cell_type": "code",
   "execution_count": null,
   "metadata": {},
   "outputs": [],
   "source": [
    "pd.DataFrame(list(zip(list(range(60000000, 60000000+len(y_pred))), y_pred.reshape([1,-1]).tolist()[0])), columns=[\"Id\",\"Predicted\"]).to_csv(str(int(round(results[1]*1000)))+'submission.csv', index=False)"
   ]
  },
  {
   "cell_type": "code",
   "execution_count": null,
   "metadata": {},
   "outputs": [],
   "source": []
  }
 ],
 "metadata": {
  "accelerator": "GPU",
  "colab": {
   "collapsed_sections": [],
   "name": "Rec.ipynb",
   "provenance": [],
   "version": "0.3.2"
  },
  "kernelspec": {
   "display_name": "Python 3",
   "language": "python",
   "name": "python3"
  },
  "language_info": {
   "codemirror_mode": {
    "name": "ipython",
    "version": 3
   },
   "file_extension": ".py",
   "mimetype": "text/x-python",
   "name": "python",
   "nbconvert_exporter": "python",
   "pygments_lexer": "ipython3",
   "version": "3.6.4"
  }
 },
 "nbformat": 4,
 "nbformat_minor": 2
}
